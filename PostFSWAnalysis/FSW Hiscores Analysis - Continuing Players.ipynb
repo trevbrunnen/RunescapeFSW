{
 "cells": [
  {
   "cell_type": "code",
   "execution_count": 2,
   "metadata": {},
   "outputs": [],
   "source": [
    "import pandas as pd\n",
    "import numpy as np;\n",
    "from matplotlib import pyplot as plt\n",
    "import seaborn as sns\n",
    "import scipy\n",
    "from sklearn.cluster import KMeans\n",
    "from scipy.spatial.distance import cdist\n",
    "from sklearn.decomposition import PCA\n",
    "from sklearn.preprocessing import StandardScaler"
   ]
  },
  {
   "cell_type": "code",
   "execution_count": 3,
   "metadata": {},
   "outputs": [],
   "source": [
    "# Players exp and level on the main game hiscores. Data scraped primarily 3/27/23-3/30/23. Lowest 450 ranks scraped 4/13/23.\n",
    "# Wide format data. Gives experience and level for each skill for each player. If unranked, exp is -1 and level is 1. If \n",
    "# invention hasn't been unlocked, it's level is listed as 0.\n",
    "currentexp = pd.read_csv('./FSW_Players_Current_Exp.csv',index_col=0)\n",
    "currentlvl = pd.read_csv('./FSW_Players_Current_Level.csv',index_col=0)\n",
    "\n",
    "# This has each player who was on the FSW hiscores at the end of FSW. The column 'Total Exp' is the total exp gained in FSW. \n",
    "# The column 'CurrentExp' is the exp scraped from the main hiscores. If the hiscores page for a particular player returns a \n",
    "# 404 error, CurrentExp is listed as 'Not on Hiscores'.\n",
    "current_hiscores = pd.read_csv('./FSW_Players_CurrentHiscores_OnlyOverall_complete.csv',index_col=0)"
   ]
  },
  {
   "cell_type": "code",
   "execution_count": 4,
   "metadata": {},
   "outputs": [
    {
     "name": "stdout",
     "output_type": "stream",
     "text": [
      "<bound method NDFrame.head of        Unnamed: 0.1   Rank      Username  Total Level   Total Exp  \\\n",
      "0                 0      1     Mud Fresh         2898  3684066636   \n",
      "1                 1      2       fsw pot         2898  3255763578   \n",
      "2                 2      3     LoveDrunk         2898  2172584360   \n",
      "3                 3      4       Andre 2         2898  1975645803   \n",
      "4                 4      5  died2wallfsw         2898  1788407890   \n",
      "...             ...    ...           ...          ...         ...   \n",
      "58084            20  58085      Neo Odin           43        2196   \n",
      "58085            21  58086         KLR04           43        2166   \n",
      "58086            22  58087  Yeets Mcgee1           43        2162   \n",
      "58087            23  58088    An FSW Alt           42        2463   \n",
      "58088            24  58089        Xyrom0           42        2174   \n",
      "\n",
      "            CurrentLvl       CurrentExp  \n",
      "0                 2898       5599930079  \n",
      "1                 2898       3260397578  \n",
      "2                 2898       2172969875  \n",
      "3                 2898       2236245846  \n",
      "4                 2898       1788412077  \n",
      "...                ...              ...  \n",
      "58084  Not on Hiscores  Not on Hiscores  \n",
      "58085  Not on Hiscores  Not on Hiscores  \n",
      "58086  Not on Hiscores  Not on Hiscores  \n",
      "58087  Not on Hiscores  Not on Hiscores  \n",
      "58088  Not on Hiscores  Not on Hiscores  \n",
      "\n",
      "[58089 rows x 7 columns]>\n"
     ]
    }
   ],
   "source": [
    "print(current_hiscores.head)"
   ]
  },
  {
   "cell_type": "markdown",
   "metadata": {},
   "source": [
    "## Intro"
   ]
  },
  {
   "cell_type": "markdown",
   "metadata": {},
   "source": [
    "Fresh Start Worlds was marketed as a way to bring new and returning players to Runescape and give them a boost in progression to get them engaged with the game. It has been debated in the community how successful this was. I have thought that Fresh Start Worlds would mainly appeal to current players who wanted an accelerated game mode with a competition, but would not lead to a large number of players continuing on with their account. (This is mainly because that's how I approached FSW.)\n",
    "\n",
    "In this notebook I'd like to adress the question \"Was Fresh Start Worlds\" successful. To be more specific, I would take FSW as a success if more than 5% of players that played during FSW continued to play in the main game. This number isn't based on anything any particular data. Since I expect that most players were running FSW as an alt that they planned to discard after the completion of the game mode, I would expect the overall number of players that continue to be low."
   ]
  },
  {
   "cell_type": "code",
   "execution_count": 5,
   "metadata": {},
   "outputs": [
    {
     "name": "stdout",
     "output_type": "stream",
     "text": [
      "<bound method NDFrame.head of        Unnamed: 0.1   Rank      Username  Total Level   Total Exp CurrentLvl  \\\n",
      "0                 0      1     Mud Fresh         2898  3684066636       2898   \n",
      "1                 1      2       fsw pot         2898  3255763578       2898   \n",
      "2                 2      3     LoveDrunk         2898  2172584360       2898   \n",
      "3                 3      4       Andre 2         2898  1975645803       2898   \n",
      "4                 4      5  died2wallfsw         2898  1788407890       2898   \n",
      "...             ...    ...           ...          ...         ...        ...   \n",
      "58029         58029  58030     xxDravenx           45        2173        220   \n",
      "58040             1  58041       Stelano           45        2154         45   \n",
      "58041             2  58042    Screpulous           45        2154         45   \n",
      "58042             3  58043      Stretzia           45        2154         45   \n",
      "58046             7  58047     WibbieIII           44        2485         60   \n",
      "\n",
      "       CurrentExp  \n",
      "0      5599930079  \n",
      "1      3260397578  \n",
      "2      2172969875  \n",
      "3      2236245846  \n",
      "4      1788412077  \n",
      "...           ...  \n",
      "58029       82689  \n",
      "58040        2154  \n",
      "58041        2154  \n",
      "58042        2154  \n",
      "58046        4089  \n",
      "\n",
      "[21048 rows x 7 columns]>\n"
     ]
    }
   ],
   "source": [
    "still_on_hiscores = current_hiscores[current_hiscores['CurrentExp']!='Not on Hiscores']\n",
    "print(still_on_hiscores.head)"
   ]
  },
  {
   "cell_type": "markdown",
   "metadata": {},
   "source": [
    "There are 21,048 players currently listed on the main game hiscores of the 58,089 players that were listed on the hiscores at the end of FSW. The players that are not listed on the hiscores could have changed their username, have been banned, or not show up on the hiscores for another reason. From poking around at some of the players who aren't on the hiscores, I think the third category of people is pretty large. There seem to be many low-level accounts that aren't on the main hiscores even though they had enough overall exp to be ranked. I'm guessing this is becuase they never logged into a main game server.\n",
    "\n",
    "As people that have changed their username are likely still playing, but people that never logged into the main game server are certainly not still playing, the people who aren't on the hiscores introduce a huge uncertainty in the number of players that are still playing."
   ]
  },
  {
   "cell_type": "code",
   "execution_count": 6,
   "metadata": {},
   "outputs": [
    {
     "name": "stderr",
     "output_type": "stream",
     "text": [
      "D:\\ProgramData\\Anaconda3\\lib\\site-packages\\ipykernel_launcher.py:1: SettingWithCopyWarning: \n",
      "A value is trying to be set on a copy of a slice from a DataFrame.\n",
      "Try using .loc[row_indexer,col_indexer] = value instead\n",
      "\n",
      "See the caveats in the documentation: https://pandas.pydata.org/pandas-docs/stable/user_guide/indexing.html#returning-a-view-versus-a-copy\n",
      "  \"\"\"Entry point for launching an IPython kernel.\n"
     ]
    }
   ],
   "source": [
    "still_on_hiscores['GainedExp'] = still_on_hiscores['CurrentExp'].astype('int64')- still_on_hiscores['Total Exp'].astype('int64')"
   ]
  },
  {
   "cell_type": "code",
   "execution_count": 7,
   "metadata": {},
   "outputs": [
    {
     "data": {
      "text/html": [
       "<div>\n",
       "<style scoped>\n",
       "    .dataframe tbody tr th:only-of-type {\n",
       "        vertical-align: middle;\n",
       "    }\n",
       "\n",
       "    .dataframe tbody tr th {\n",
       "        vertical-align: top;\n",
       "    }\n",
       "\n",
       "    .dataframe thead th {\n",
       "        text-align: right;\n",
       "    }\n",
       "</style>\n",
       "<table border=\"1\" class=\"dataframe\">\n",
       "  <thead>\n",
       "    <tr style=\"text-align: right;\">\n",
       "      <th></th>\n",
       "      <th>Unnamed: 0.1</th>\n",
       "      <th>Rank</th>\n",
       "      <th>Username</th>\n",
       "      <th>Total Level</th>\n",
       "      <th>Total Exp</th>\n",
       "      <th>CurrentLvl</th>\n",
       "      <th>CurrentExp</th>\n",
       "      <th>GainedExp</th>\n",
       "    </tr>\n",
       "  </thead>\n",
       "  <tbody>\n",
       "    <tr>\n",
       "      <th>0</th>\n",
       "      <td>0</td>\n",
       "      <td>1</td>\n",
       "      <td>Mud Fresh</td>\n",
       "      <td>2898</td>\n",
       "      <td>3684066636</td>\n",
       "      <td>2898</td>\n",
       "      <td>5599930079</td>\n",
       "      <td>1915863443</td>\n",
       "    </tr>\n",
       "    <tr>\n",
       "      <th>1</th>\n",
       "      <td>1</td>\n",
       "      <td>2</td>\n",
       "      <td>fsw pot</td>\n",
       "      <td>2898</td>\n",
       "      <td>3255763578</td>\n",
       "      <td>2898</td>\n",
       "      <td>3260397578</td>\n",
       "      <td>4634000</td>\n",
       "    </tr>\n",
       "    <tr>\n",
       "      <th>2</th>\n",
       "      <td>2</td>\n",
       "      <td>3</td>\n",
       "      <td>LoveDrunk</td>\n",
       "      <td>2898</td>\n",
       "      <td>2172584360</td>\n",
       "      <td>2898</td>\n",
       "      <td>2172969875</td>\n",
       "      <td>385515</td>\n",
       "    </tr>\n",
       "    <tr>\n",
       "      <th>3</th>\n",
       "      <td>3</td>\n",
       "      <td>4</td>\n",
       "      <td>Andre 2</td>\n",
       "      <td>2898</td>\n",
       "      <td>1975645803</td>\n",
       "      <td>2898</td>\n",
       "      <td>2236245846</td>\n",
       "      <td>260600043</td>\n",
       "    </tr>\n",
       "    <tr>\n",
       "      <th>4</th>\n",
       "      <td>4</td>\n",
       "      <td>5</td>\n",
       "      <td>died2wallfsw</td>\n",
       "      <td>2898</td>\n",
       "      <td>1788407890</td>\n",
       "      <td>2898</td>\n",
       "      <td>1788412077</td>\n",
       "      <td>4187</td>\n",
       "    </tr>\n",
       "    <tr>\n",
       "      <th>...</th>\n",
       "      <td>...</td>\n",
       "      <td>...</td>\n",
       "      <td>...</td>\n",
       "      <td>...</td>\n",
       "      <td>...</td>\n",
       "      <td>...</td>\n",
       "      <td>...</td>\n",
       "      <td>...</td>\n",
       "    </tr>\n",
       "    <tr>\n",
       "      <th>58029</th>\n",
       "      <td>58029</td>\n",
       "      <td>58030</td>\n",
       "      <td>xxDravenx</td>\n",
       "      <td>45</td>\n",
       "      <td>2173</td>\n",
       "      <td>220</td>\n",
       "      <td>82689</td>\n",
       "      <td>80516</td>\n",
       "    </tr>\n",
       "    <tr>\n",
       "      <th>58040</th>\n",
       "      <td>1</td>\n",
       "      <td>58041</td>\n",
       "      <td>Stelano</td>\n",
       "      <td>45</td>\n",
       "      <td>2154</td>\n",
       "      <td>45</td>\n",
       "      <td>2154</td>\n",
       "      <td>0</td>\n",
       "    </tr>\n",
       "    <tr>\n",
       "      <th>58041</th>\n",
       "      <td>2</td>\n",
       "      <td>58042</td>\n",
       "      <td>Screpulous</td>\n",
       "      <td>45</td>\n",
       "      <td>2154</td>\n",
       "      <td>45</td>\n",
       "      <td>2154</td>\n",
       "      <td>0</td>\n",
       "    </tr>\n",
       "    <tr>\n",
       "      <th>58042</th>\n",
       "      <td>3</td>\n",
       "      <td>58043</td>\n",
       "      <td>Stretzia</td>\n",
       "      <td>45</td>\n",
       "      <td>2154</td>\n",
       "      <td>45</td>\n",
       "      <td>2154</td>\n",
       "      <td>0</td>\n",
       "    </tr>\n",
       "    <tr>\n",
       "      <th>58046</th>\n",
       "      <td>7</td>\n",
       "      <td>58047</td>\n",
       "      <td>WibbieIII</td>\n",
       "      <td>44</td>\n",
       "      <td>2485</td>\n",
       "      <td>60</td>\n",
       "      <td>4089</td>\n",
       "      <td>1604</td>\n",
       "    </tr>\n",
       "  </tbody>\n",
       "</table>\n",
       "<p>21048 rows × 8 columns</p>\n",
       "</div>"
      ],
      "text/plain": [
       "       Unnamed: 0.1   Rank      Username  Total Level   Total Exp CurrentLvl  \\\n",
       "0                 0      1     Mud Fresh         2898  3684066636       2898   \n",
       "1                 1      2       fsw pot         2898  3255763578       2898   \n",
       "2                 2      3     LoveDrunk         2898  2172584360       2898   \n",
       "3                 3      4       Andre 2         2898  1975645803       2898   \n",
       "4                 4      5  died2wallfsw         2898  1788407890       2898   \n",
       "...             ...    ...           ...          ...         ...        ...   \n",
       "58029         58029  58030     xxDravenx           45        2173        220   \n",
       "58040             1  58041       Stelano           45        2154         45   \n",
       "58041             2  58042    Screpulous           45        2154         45   \n",
       "58042             3  58043      Stretzia           45        2154         45   \n",
       "58046             7  58047     WibbieIII           44        2485         60   \n",
       "\n",
       "       CurrentExp   GainedExp  \n",
       "0      5599930079  1915863443  \n",
       "1      3260397578     4634000  \n",
       "2      2172969875      385515  \n",
       "3      2236245846   260600043  \n",
       "4      1788412077        4187  \n",
       "...           ...         ...  \n",
       "58029       82689       80516  \n",
       "58040        2154           0  \n",
       "58041        2154           0  \n",
       "58042        2154           0  \n",
       "58046        4089        1604  \n",
       "\n",
       "[21048 rows x 8 columns]"
      ]
     },
     "execution_count": 7,
     "metadata": {},
     "output_type": "execute_result"
    }
   ],
   "source": [
    "still_on_hiscores"
   ]
  },
  {
   "cell_type": "code",
   "execution_count": 8,
   "metadata": {},
   "outputs": [
    {
     "data": {
      "text/html": [
       "<div>\n",
       "<style scoped>\n",
       "    .dataframe tbody tr th:only-of-type {\n",
       "        vertical-align: middle;\n",
       "    }\n",
       "\n",
       "    .dataframe tbody tr th {\n",
       "        vertical-align: top;\n",
       "    }\n",
       "\n",
       "    .dataframe thead th {\n",
       "        text-align: right;\n",
       "    }\n",
       "</style>\n",
       "<table border=\"1\" class=\"dataframe\">\n",
       "  <thead>\n",
       "    <tr style=\"text-align: right;\">\n",
       "      <th></th>\n",
       "      <th>Unnamed: 0.1</th>\n",
       "      <th>Rank</th>\n",
       "      <th>Username</th>\n",
       "      <th>Total Level</th>\n",
       "      <th>Total Exp</th>\n",
       "      <th>CurrentLvl</th>\n",
       "      <th>CurrentExp</th>\n",
       "      <th>GainedExp</th>\n",
       "    </tr>\n",
       "  </thead>\n",
       "  <tbody>\n",
       "    <tr>\n",
       "      <th>208</th>\n",
       "      <td>208</td>\n",
       "      <td>209</td>\n",
       "      <td>Esporta</td>\n",
       "      <td>2780</td>\n",
       "      <td>618467681</td>\n",
       "      <td>2699</td>\n",
       "      <td>432565869</td>\n",
       "      <td>-185901812</td>\n",
       "    </tr>\n",
       "    <tr>\n",
       "      <th>846</th>\n",
       "      <td>846</td>\n",
       "      <td>847</td>\n",
       "      <td>Reincamel</td>\n",
       "      <td>2561</td>\n",
       "      <td>383347604</td>\n",
       "      <td>2561</td>\n",
       "      <td>383281534</td>\n",
       "      <td>-66070</td>\n",
       "    </tr>\n",
       "    <tr>\n",
       "      <th>3216</th>\n",
       "      <td>3216</td>\n",
       "      <td>3217</td>\n",
       "      <td>sustime</td>\n",
       "      <td>2292</td>\n",
       "      <td>117798740</td>\n",
       "      <td>2292</td>\n",
       "      <td>117736224</td>\n",
       "      <td>-62516</td>\n",
       "    </tr>\n",
       "    <tr>\n",
       "      <th>4543</th>\n",
       "      <td>4543</td>\n",
       "      <td>4544</td>\n",
       "      <td>Oreithyia x</td>\n",
       "      <td>2195</td>\n",
       "      <td>183584413</td>\n",
       "      <td>1267</td>\n",
       "      <td>5411266</td>\n",
       "      <td>-178173147</td>\n",
       "    </tr>\n",
       "    <tr>\n",
       "      <th>6943</th>\n",
       "      <td>6943</td>\n",
       "      <td>6944</td>\n",
       "      <td>n0nameworks</td>\n",
       "      <td>2043</td>\n",
       "      <td>51885098</td>\n",
       "      <td>2043</td>\n",
       "      <td>51879867</td>\n",
       "      <td>-5231</td>\n",
       "    </tr>\n",
       "    <tr>\n",
       "      <th>8024</th>\n",
       "      <td>8024</td>\n",
       "      <td>8025</td>\n",
       "      <td>Tovernaaier</td>\n",
       "      <td>1985</td>\n",
       "      <td>209438733</td>\n",
       "      <td>1051</td>\n",
       "      <td>7676119</td>\n",
       "      <td>-201762614</td>\n",
       "    </tr>\n",
       "    <tr>\n",
       "      <th>8171</th>\n",
       "      <td>8171</td>\n",
       "      <td>8172</td>\n",
       "      <td>inanimatesun</td>\n",
       "      <td>1973</td>\n",
       "      <td>37739000</td>\n",
       "      <td>56</td>\n",
       "      <td>3385</td>\n",
       "      <td>-37735615</td>\n",
       "    </tr>\n",
       "    <tr>\n",
       "      <th>9665</th>\n",
       "      <td>9665</td>\n",
       "      <td>9666</td>\n",
       "      <td>Closner</td>\n",
       "      <td>1851</td>\n",
       "      <td>679404432</td>\n",
       "      <td>528</td>\n",
       "      <td>1341209</td>\n",
       "      <td>-678063223</td>\n",
       "    </tr>\n",
       "    <tr>\n",
       "      <th>11234</th>\n",
       "      <td>11234</td>\n",
       "      <td>11235</td>\n",
       "      <td>FSW_IS_SH1T</td>\n",
       "      <td>1741</td>\n",
       "      <td>47983450</td>\n",
       "      <td>1742</td>\n",
       "      <td>47949506</td>\n",
       "      <td>-33944</td>\n",
       "    </tr>\n",
       "    <tr>\n",
       "      <th>12074</th>\n",
       "      <td>12074</td>\n",
       "      <td>12075</td>\n",
       "      <td>PizelRs</td>\n",
       "      <td>1682</td>\n",
       "      <td>162802655</td>\n",
       "      <td>1648</td>\n",
       "      <td>148282859</td>\n",
       "      <td>-14519796</td>\n",
       "    </tr>\n",
       "    <tr>\n",
       "      <th>12494</th>\n",
       "      <td>12494</td>\n",
       "      <td>12495</td>\n",
       "      <td>120 theif</td>\n",
       "      <td>1654</td>\n",
       "      <td>444266614</td>\n",
       "      <td>1573</td>\n",
       "      <td>341964794</td>\n",
       "      <td>-102301820</td>\n",
       "    </tr>\n",
       "    <tr>\n",
       "      <th>13818</th>\n",
       "      <td>13818</td>\n",
       "      <td>13819</td>\n",
       "      <td>FSW Bk2Lumby</td>\n",
       "      <td>1567</td>\n",
       "      <td>41429486</td>\n",
       "      <td>1477</td>\n",
       "      <td>34777090</td>\n",
       "      <td>-6652396</td>\n",
       "    </tr>\n",
       "    <tr>\n",
       "      <th>15383</th>\n",
       "      <td>15383</td>\n",
       "      <td>15384</td>\n",
       "      <td>lethalfsw</td>\n",
       "      <td>1472</td>\n",
       "      <td>10739000</td>\n",
       "      <td>1472</td>\n",
       "      <td>10738884</td>\n",
       "      <td>-116</td>\n",
       "    </tr>\n",
       "    <tr>\n",
       "      <th>15981</th>\n",
       "      <td>15981</td>\n",
       "      <td>15982</td>\n",
       "      <td>PVE IS FUN</td>\n",
       "      <td>1431</td>\n",
       "      <td>45467618</td>\n",
       "      <td>1431</td>\n",
       "      <td>45467568</td>\n",
       "      <td>-50</td>\n",
       "    </tr>\n",
       "    <tr>\n",
       "      <th>17132</th>\n",
       "      <td>17132</td>\n",
       "      <td>17133</td>\n",
       "      <td>Wave Crash</td>\n",
       "      <td>1359</td>\n",
       "      <td>107685415</td>\n",
       "      <td>1946</td>\n",
       "      <td>40876525</td>\n",
       "      <td>-66808890</td>\n",
       "    </tr>\n",
       "    <tr>\n",
       "      <th>17282</th>\n",
       "      <td>17282</td>\n",
       "      <td>17283</td>\n",
       "      <td>Try2CalmDown</td>\n",
       "      <td>1351</td>\n",
       "      <td>64906710</td>\n",
       "      <td>1351</td>\n",
       "      <td>64884143</td>\n",
       "      <td>-22567</td>\n",
       "    </tr>\n",
       "    <tr>\n",
       "      <th>20461</th>\n",
       "      <td>20461</td>\n",
       "      <td>20462</td>\n",
       "      <td>Lord Veterix</td>\n",
       "      <td>1166</td>\n",
       "      <td>251574662</td>\n",
       "      <td>1088</td>\n",
       "      <td>249588781</td>\n",
       "      <td>-1985881</td>\n",
       "    </tr>\n",
       "    <tr>\n",
       "      <th>21166</th>\n",
       "      <td>21166</td>\n",
       "      <td>21167</td>\n",
       "      <td>Saint Kain</td>\n",
       "      <td>1128</td>\n",
       "      <td>1916690</td>\n",
       "      <td>84</td>\n",
       "      <td>7790</td>\n",
       "      <td>-1908900</td>\n",
       "    </tr>\n",
       "    <tr>\n",
       "      <th>21495</th>\n",
       "      <td>21495</td>\n",
       "      <td>21496</td>\n",
       "      <td>Mystoux</td>\n",
       "      <td>1111</td>\n",
       "      <td>3355538</td>\n",
       "      <td>63</td>\n",
       "      <td>4276</td>\n",
       "      <td>-3351262</td>\n",
       "    </tr>\n",
       "    <tr>\n",
       "      <th>22151</th>\n",
       "      <td>22151</td>\n",
       "      <td>22152</td>\n",
       "      <td>Conslut</td>\n",
       "      <td>1075</td>\n",
       "      <td>168998818</td>\n",
       "      <td>983</td>\n",
       "      <td>158069438</td>\n",
       "      <td>-10929380</td>\n",
       "    </tr>\n",
       "    <tr>\n",
       "      <th>22512</th>\n",
       "      <td>22512</td>\n",
       "      <td>22513</td>\n",
       "      <td>Chungusnator</td>\n",
       "      <td>1057</td>\n",
       "      <td>14028412</td>\n",
       "      <td>1055</td>\n",
       "      <td>14015522</td>\n",
       "      <td>-12890</td>\n",
       "    </tr>\n",
       "    <tr>\n",
       "      <th>24741</th>\n",
       "      <td>24741</td>\n",
       "      <td>24742</td>\n",
       "      <td>head elf</td>\n",
       "      <td>944</td>\n",
       "      <td>11804909</td>\n",
       "      <td>1280</td>\n",
       "      <td>10105897</td>\n",
       "      <td>-1699012</td>\n",
       "    </tr>\n",
       "    <tr>\n",
       "      <th>26447</th>\n",
       "      <td>26447</td>\n",
       "      <td>26448</td>\n",
       "      <td>Sinking Fast</td>\n",
       "      <td>867</td>\n",
       "      <td>202363769</td>\n",
       "      <td>156</td>\n",
       "      <td>200001154</td>\n",
       "      <td>-2362615</td>\n",
       "    </tr>\n",
       "    <tr>\n",
       "      <th>26791</th>\n",
       "      <td>26791</td>\n",
       "      <td>26792</td>\n",
       "      <td>MS M</td>\n",
       "      <td>852</td>\n",
       "      <td>5750071</td>\n",
       "      <td>514</td>\n",
       "      <td>2468103</td>\n",
       "      <td>-3281968</td>\n",
       "    </tr>\n",
       "    <tr>\n",
       "      <th>28294</th>\n",
       "      <td>28294</td>\n",
       "      <td>28295</td>\n",
       "      <td>Shayn</td>\n",
       "      <td>787</td>\n",
       "      <td>113000184</td>\n",
       "      <td>1693</td>\n",
       "      <td>16558727</td>\n",
       "      <td>-96441457</td>\n",
       "    </tr>\n",
       "    <tr>\n",
       "      <th>28324</th>\n",
       "      <td>28324</td>\n",
       "      <td>28325</td>\n",
       "      <td>Zero-Lightt</td>\n",
       "      <td>786</td>\n",
       "      <td>43301229</td>\n",
       "      <td>740</td>\n",
       "      <td>43248404</td>\n",
       "      <td>-52825</td>\n",
       "    </tr>\n",
       "    <tr>\n",
       "      <th>33093</th>\n",
       "      <td>33093</td>\n",
       "      <td>33094</td>\n",
       "      <td>papio</td>\n",
       "      <td>572</td>\n",
       "      <td>157408627</td>\n",
       "      <td>331</td>\n",
       "      <td>31630266</td>\n",
       "      <td>-125778361</td>\n",
       "    </tr>\n",
       "    <tr>\n",
       "      <th>34821</th>\n",
       "      <td>34821</td>\n",
       "      <td>34822</td>\n",
       "      <td>Dreamish</td>\n",
       "      <td>493</td>\n",
       "      <td>7734202</td>\n",
       "      <td>104</td>\n",
       "      <td>106439</td>\n",
       "      <td>-7627763</td>\n",
       "    </tr>\n",
       "    <tr>\n",
       "      <th>41080</th>\n",
       "      <td>41080</td>\n",
       "      <td>41081</td>\n",
       "      <td>LRAD</td>\n",
       "      <td>293</td>\n",
       "      <td>24170530</td>\n",
       "      <td>1010</td>\n",
       "      <td>14414719</td>\n",
       "      <td>-9755811</td>\n",
       "    </tr>\n",
       "    <tr>\n",
       "      <th>41879</th>\n",
       "      <td>41879</td>\n",
       "      <td>41880</td>\n",
       "      <td>Numi_Dum</td>\n",
       "      <td>274</td>\n",
       "      <td>114616</td>\n",
       "      <td>59</td>\n",
       "      <td>10065</td>\n",
       "      <td>-104551</td>\n",
       "    </tr>\n",
       "    <tr>\n",
       "      <th>49726</th>\n",
       "      <td>49726</td>\n",
       "      <td>49727</td>\n",
       "      <td>Iron Kelsey</td>\n",
       "      <td>124</td>\n",
       "      <td>14402</td>\n",
       "      <td>51</td>\n",
       "      <td>3153</td>\n",
       "      <td>-11249</td>\n",
       "    </tr>\n",
       "    <tr>\n",
       "      <th>56968</th>\n",
       "      <td>56968</td>\n",
       "      <td>56969</td>\n",
       "      <td>GhoullyJr</td>\n",
       "      <td>51</td>\n",
       "      <td>3829</td>\n",
       "      <td>0</td>\n",
       "      <td>0</td>\n",
       "      <td>-3829</td>\n",
       "    </tr>\n",
       "    <tr>\n",
       "      <th>56972</th>\n",
       "      <td>56972</td>\n",
       "      <td>56973</td>\n",
       "      <td>Wh1tman</td>\n",
       "      <td>51</td>\n",
       "      <td>3682</td>\n",
       "      <td>0</td>\n",
       "      <td>0</td>\n",
       "      <td>-3682</td>\n",
       "    </tr>\n",
       "  </tbody>\n",
       "</table>\n",
       "</div>"
      ],
      "text/plain": [
       "       Unnamed: 0.1   Rank      Username  Total Level  Total Exp CurrentLvl  \\\n",
       "208             208    209       Esporta         2780  618467681       2699   \n",
       "846             846    847     Reincamel         2561  383347604       2561   \n",
       "3216           3216   3217       sustime         2292  117798740       2292   \n",
       "4543           4543   4544   Oreithyia x         2195  183584413       1267   \n",
       "6943           6943   6944   n0nameworks         2043   51885098       2043   \n",
       "8024           8024   8025   Tovernaaier         1985  209438733       1051   \n",
       "8171           8171   8172  inanimatesun         1973   37739000         56   \n",
       "9665           9665   9666       Closner         1851  679404432        528   \n",
       "11234         11234  11235   FSW_IS_SH1T         1741   47983450       1742   \n",
       "12074         12074  12075       PizelRs         1682  162802655       1648   \n",
       "12494         12494  12495     120 theif         1654  444266614       1573   \n",
       "13818         13818  13819  FSW Bk2Lumby         1567   41429486       1477   \n",
       "15383         15383  15384     lethalfsw         1472   10739000       1472   \n",
       "15981         15981  15982    PVE IS FUN         1431   45467618       1431   \n",
       "17132         17132  17133    Wave Crash         1359  107685415       1946   \n",
       "17282         17282  17283  Try2CalmDown         1351   64906710       1351   \n",
       "20461         20461  20462  Lord Veterix         1166  251574662       1088   \n",
       "21166         21166  21167    Saint Kain         1128    1916690         84   \n",
       "21495         21495  21496       Mystoux         1111    3355538         63   \n",
       "22151         22151  22152       Conslut         1075  168998818        983   \n",
       "22512         22512  22513  Chungusnator         1057   14028412       1055   \n",
       "24741         24741  24742      head elf          944   11804909       1280   \n",
       "26447         26447  26448  Sinking Fast          867  202363769        156   \n",
       "26791         26791  26792          MS M          852    5750071        514   \n",
       "28294         28294  28295         Shayn          787  113000184       1693   \n",
       "28324         28324  28325   Zero-Lightt          786   43301229        740   \n",
       "33093         33093  33094         papio          572  157408627        331   \n",
       "34821         34821  34822      Dreamish          493    7734202        104   \n",
       "41080         41080  41081          LRAD          293   24170530       1010   \n",
       "41879         41879  41880      Numi_Dum          274     114616         59   \n",
       "49726         49726  49727   Iron Kelsey          124      14402         51   \n",
       "56968         56968  56969     GhoullyJr           51       3829          0   \n",
       "56972         56972  56973       Wh1tman           51       3682          0   \n",
       "\n",
       "      CurrentExp  GainedExp  \n",
       "208    432565869 -185901812  \n",
       "846    383281534     -66070  \n",
       "3216   117736224     -62516  \n",
       "4543     5411266 -178173147  \n",
       "6943    51879867      -5231  \n",
       "8024     7676119 -201762614  \n",
       "8171        3385  -37735615  \n",
       "9665     1341209 -678063223  \n",
       "11234   47949506     -33944  \n",
       "12074  148282859  -14519796  \n",
       "12494  341964794 -102301820  \n",
       "13818   34777090   -6652396  \n",
       "15383   10738884       -116  \n",
       "15981   45467568        -50  \n",
       "17132   40876525  -66808890  \n",
       "17282   64884143     -22567  \n",
       "20461  249588781   -1985881  \n",
       "21166       7790   -1908900  \n",
       "21495       4276   -3351262  \n",
       "22151  158069438  -10929380  \n",
       "22512   14015522     -12890  \n",
       "24741   10105897   -1699012  \n",
       "26447  200001154   -2362615  \n",
       "26791    2468103   -3281968  \n",
       "28294   16558727  -96441457  \n",
       "28324   43248404     -52825  \n",
       "33093   31630266 -125778361  \n",
       "34821     106439   -7627763  \n",
       "41080   14414719   -9755811  \n",
       "41879      10065    -104551  \n",
       "49726       3153     -11249  \n",
       "56968          0      -3829  \n",
       "56972          0      -3682  "
      ]
     },
     "execution_count": 8,
     "metadata": {},
     "output_type": "execute_result"
    }
   ],
   "source": [
    "still_on_hiscores[still_on_hiscores['GainedExp'] < 0]"
   ]
  },
  {
   "cell_type": "markdown",
   "metadata": {},
   "source": [
    "These 33 players have less total experience when scraped months after FSW than they did at the end of FSW. For the players with ~100 less exp, I have no idea what happened. For the two players at the bottom, it looks like they don't show up on the overall hiscores, but do show up in an invidual skill. I have no idea why that might happen. For the rest of the players, it looks like they transferred their FSW name onto a different account that had lower stats. \n",
    "Since there are few players overall that have negative gained experience, I'll drop them from the rest of the analysis."
   ]
  },
  {
   "cell_type": "code",
   "execution_count": 9,
   "metadata": {},
   "outputs": [],
   "source": [
    "still_on_hiscores = still_on_hiscores[still_on_hiscores['GainedExp'] >= 0]"
   ]
  },
  {
   "cell_type": "markdown",
   "metadata": {},
   "source": [
    "### Retained Players Analysis"
   ]
  },
  {
   "cell_type": "markdown",
   "metadata": {},
   "source": [
    "Looking at the first and last few rows of the dataframe with the gained exp, there are a couple things that jump out. At the bottom, there are 3 players with 0 gained exp. These players have clearly not been playing the game and shouldn't be included in the count of continuing players. Mud Fresh and Andre 2 have gained over 200m experience in their skills since the end of FSW, so they defintely do count as continuing players. fsw pot has gained 4.6m experience, but given they finished FSW with 3.2 billion experience, I think they probably used up some Treasure Hunter keys or played until their membership ran out, and then quit. The other 2 in the top 5 almost certainly shouldn't be considered continuing players, since their gained exp is very small for their overall exp. xxDravenX is an interesting case. They have gained much more experience since the end of FSW and increased their total level by a factor of ~5. They probably should count as a continuing player, even though their gained exp is less than LoveDrunk, who shouldn't be.\n",
    "\n",
    "I will look at both the total Gained Exp and the ratio of Gained Exp to Total Exp at the end of FSW. The raw value of Gained Exp will be useful for players that are towards the top end of the hiscores, since they have skills at levels that give higher exp rates. "
   ]
  },
  {
   "cell_type": "code",
   "execution_count": 47,
   "metadata": {},
   "outputs": [
    {
     "data": {
      "text/plain": [
       "(0.0, 500.0)"
      ]
     },
     "execution_count": 47,
     "metadata": {},
     "output_type": "execute_result"
    },
    {
     "data": {
      "image/png": "[encoded data removed]",
      "text/plain": [
       "<Figure size 864x576 with 1 Axes>"
      ]
     },
     "metadata": {},
     "output_type": "display_data"
    }
   ],
   "source": [
    "gained_fig = plt.figure(0,figsize = (12,8),facecolor = 'white')\n",
    "gained_ax = gained_fig.add_subplot(111)\n",
    "# There are a lot of people who didn't gain any exp. This causes an issue with the log, so add 1 to the gained exp.\n",
    "# The x-axis is log because there is a long tail for players that gained 100's of million or over a billion experience.\n",
    "gained_plot = plt.hist(np.log10(still_on_hiscores['GainedExp']+1),bins = 100)\n",
    "\n",
    "plt.title('Histogram of Gained Exp Since the End of FSW')\n",
    "plt.xlabel('Gained Experience (log scale)')\n",
    "fig_ylabel = plt.ylabel('Number of players')\n",
    "plt.ylim((0,500))"
   ]
  },
  {
   "cell_type": "markdown",
   "metadata": {},
   "source": [
    "There are around 4,000 players that didn't gain any experience post FSW. That has been cropped out of the plot to allow the intesting part of the data to be easier to see."
   ]
  },
  {
   "cell_type": "code",
   "execution_count": 11,
   "metadata": {},
   "outputs": [
    {
     "data": {
      "text/html": [
       "<div>\n",
       "<style scoped>\n",
       "    .dataframe tbody tr th:only-of-type {\n",
       "        vertical-align: middle;\n",
       "    }\n",
       "\n",
       "    .dataframe tbody tr th {\n",
       "        vertical-align: top;\n",
       "    }\n",
       "\n",
       "    .dataframe thead th {\n",
       "        text-align: right;\n",
       "    }\n",
       "</style>\n",
       "<table border=\"1\" class=\"dataframe\">\n",
       "  <thead>\n",
       "    <tr style=\"text-align: right;\">\n",
       "      <th></th>\n",
       "      <th>Unnamed: 0.1</th>\n",
       "      <th>Rank</th>\n",
       "      <th>Username</th>\n",
       "      <th>Total Level</th>\n",
       "      <th>Total Exp</th>\n",
       "      <th>CurrentLvl</th>\n",
       "      <th>CurrentExp</th>\n",
       "      <th>GainedExp</th>\n",
       "    </tr>\n",
       "  </thead>\n",
       "  <tbody>\n",
       "    <tr>\n",
       "      <th>1320</th>\n",
       "      <td>1320</td>\n",
       "      <td>1321</td>\n",
       "      <td>Trevbrun720</td>\n",
       "      <td>2488</td>\n",
       "      <td>335572086</td>\n",
       "      <td>2488</td>\n",
       "      <td>336090808</td>\n",
       "      <td>518722</td>\n",
       "    </tr>\n",
       "  </tbody>\n",
       "</table>\n",
       "</div>"
      ],
      "text/plain": [
       "      Unnamed: 0.1  Rank     Username  Total Level  Total Exp CurrentLvl  \\\n",
       "1320          1320  1321  Trevbrun720         2488  335572086       2488   \n",
       "\n",
       "     CurrentExp  GainedExp  \n",
       "1320  336090808     518722  "
      ]
     },
     "execution_count": 11,
     "metadata": {},
     "output_type": "execute_result"
    }
   ],
   "source": [
    "# My ending rank and gained exp for reference. I didn't play much after the end of FSW other than to transfer\n",
    "# my challenger halo, skill cape tokens, and skilling pet tokens to my ironman.\n",
    "still_on_hiscores[still_on_hiscores['Username'] == 'Trevbrun720']"
   ]
  },
  {
   "cell_type": "code",
   "execution_count": 12,
   "metadata": {},
   "outputs": [
    {
     "name": "stdout",
     "output_type": "stream",
     "text": [
      "There are 17,078 players who have gained more than 0 exp since the end of FSW. This is 29.4% of all FSW players.\n",
      "There are 16,289 players who have gained more than 1,000 exp since the end of FSW. This is 28.0% of all FSW players.\n",
      "There are 12,518 players who have gained more than 100,000 exp since the end of FSW. This is 21.5% of all FSW players.\n",
      "There are 8,529 players who have gained more than 1,000,000 exp since the end of FSW. This is 14.7% of all FSW players.\n",
      "There are 2,901 players who have gained more than 28,000,000 exp since the end of FSW. This is 5.0% of all FSW players.\n",
      "There are 1,070 players who have gained more than 100,000,000 exp since the end of FSW. This is 1.8% of all FSW players.\n"
     ]
    }
   ],
   "source": [
    "\n",
    "for i in [0,1000, 100000, 1000000, 28000000,100000000]:\n",
    "    temp = still_on_hiscores[still_on_hiscores['GainedExp'] > i]\n",
    "    players = temp.shape[0]\n",
    "    perc = players/current_hiscores.shape[0]*100\n",
    "    print(f'There are {players:,} players who have gained more than {i:,} exp since the end of FSW. This is {perc:.1f}% of all FSW players.')"
   ]
  },
  {
   "cell_type": "markdown",
   "metadata": {},
   "source": [
    "The top 5.0% of players gained more than 28 million exp since the end of FSW. Gaining this much experience doesn't seem to be something that a player would do if they were only transferring things off of the account to cash out for another account. By the threshold I set at the beginning, this would say that Fresh Start Worlds was successful.\n",
    "\n",
    "Further, 14.7% of FSW players have gained an additional 1 million experience after the closing of FSW. This is higher than I would have expected. From this data, it's unclear how those players break down into new players and alt accounts, but either way this is more of an argument that FSW was successful. "
   ]
  },
  {
   "cell_type": "code",
   "execution_count": 13,
   "metadata": {},
   "outputs": [
    {
     "name": "stderr",
     "output_type": "stream",
     "text": [
      "D:\\ProgramData\\Anaconda3\\lib\\site-packages\\ipykernel_launcher.py:2: SettingWithCopyWarning: \n",
      "A value is trying to be set on a copy of a slice from a DataFrame.\n",
      "Try using .loc[row_indexer,col_indexer] = value instead\n",
      "\n",
      "See the caveats in the documentation: https://pandas.pydata.org/pandas-docs/stable/user_guide/indexing.html#returning-a-view-versus-a-copy\n",
      "  \n"
     ]
    }
   ],
   "source": [
    "# Calculate how much experience players gained as a ratio of the experience they gained during FSW.\n",
    "still_on_hiscores['ExpRatio'] = still_on_hiscores['GainedExp'].div(still_on_hiscores['Total Exp'].astype('int64'))"
   ]
  },
  {
   "cell_type": "code",
   "execution_count": 14,
   "metadata": {},
   "outputs": [
    {
     "data": {
      "text/plain": [
       "Unnamed: 0.1         55851\n",
       "Rank                 55852\n",
       "Username          Caraxses\n",
       "Total Level             59\n",
       "Total Exp             4067\n",
       "CurrentLvl            2872\n",
       "CurrentExp      2214882500\n",
       "GainedExp       2214878433\n",
       "ExpRatio            544598\n",
       "Name: 55851, dtype: object"
      ]
     },
     "execution_count": 14,
     "metadata": {},
     "output_type": "execute_result"
    }
   ],
   "source": [
    "still_on_hiscores.loc[still_on_hiscores['ExpRatio'].idxmax(),:]"
   ]
  },
  {
   "cell_type": "markdown",
   "metadata": {},
   "source": [
    "This is wild. This player only gained 4,067 in FSW but has gained over 2 billion exp since. I guess I need to cap the histogram at something more reasonable to be able to see everything."
   ]
  },
  {
   "cell_type": "code",
   "execution_count": 53,
   "metadata": {},
   "outputs": [
    {
     "name": "stdout",
     "output_type": "stream",
     "text": [
      "There are 21015 players still on the hiscores.\n",
      "There are 20164 players still on the hiscores with an Exp Ratio less than 5.\n"
     ]
    },
    {
     "data": {
      "image/png": "[encoded data removed]",
      "text/plain": [
       "<Figure size 864x576 with 1 Axes>"
      ]
     },
     "metadata": {},
     "output_type": "display_data"
    }
   ],
   "source": [
    "ratio_fig = plt.figure(1,figsize = (12,8),facecolor='white')\n",
    "ratio_ax = ratio_fig.add_subplot(111)\n",
    "# No log this time. Since the players that gained a lot of exp after FSW probably are the same as those who gained a lot during\n",
    "# FSW we don't need to worry about the tail.\n",
    "still_on_hiscores_reasonable = still_on_hiscores[still_on_hiscores['ExpRatio'] < 5]\n",
    "print(f'There are {still_on_hiscores.shape[0]} players still on the hiscores.')\n",
    "print(f'There are {still_on_hiscores_reasonable.shape[0]} players still on the hiscores with an Exp Ratio less than 5.')\n",
    "gained_plot = plt.hist(still_on_hiscores_reasonable['ExpRatio'],bins = 100)\n",
    "\n",
    "plt.title('Ratio of Gained Exp Since the End of FSW')\n",
    "plt.xlabel('Gained Experience')\n",
    "fig_ylabel = plt.ylabel('Number of players')\n",
    "#plt.ylim((0,7000))\n",
    "ratio_ax.set_yscale('log')\n",
    "#plt.xlim((0,1))"
   ]
  },
  {
   "cell_type": "markdown",
   "metadata": {},
   "source": [
    "This plot cuts off after an exp ratio of 5. There are around 850 players with a higher exp ratio, but they have been omitted to focus on the bulk of players."
   ]
  },
  {
   "cell_type": "code",
   "execution_count": 54,
   "metadata": {},
   "outputs": [
    {
     "name": "stdout",
     "output_type": "stream",
     "text": [
      "There are 17,078 players who have gained more than 0.00x exp since the end of FSW. This is 29.4% of all FSW players.\n",
      "There are 4,467 players who have gained more than 0.25x exp since the end of FSW. This is 7.7% of all FSW players.\n",
      "There are 3,143 players who have gained more than 0.50x exp since the end of FSW. This is 5.4% of all FSW players.\n",
      "There are 2,878 players who have gained more than 0.58x exp since the end of FSW. This is 5.0% of all FSW players.\n",
      "There are 2,097 players who have gained more than 1.00x exp since the end of FSW. This is 3.6% of all FSW players.\n",
      "There are 1,357 players who have gained more than 2.00x exp since the end of FSW. This is 2.3% of all FSW players.\n",
      "There are 851 players who have gained more than 5.00x exp since the end of FSW. This is 1.5% of all FSW players.\n"
     ]
    }
   ],
   "source": [
    "for i in [0, .25, .5, .58, 1, 2, 5]:\n",
    "    temp = still_on_hiscores[still_on_hiscores['ExpRatio'] > i]\n",
    "    players = temp.shape[0]\n",
    "    perc = players/current_hiscores.shape[0]*100\n",
    "    print(f'There are {players:,} players who have gained more than {i:.2f}x exp since the end of FSW. This is {perc:.1f}% of all FSW players.')"
   ]
  },
  {
   "cell_type": "markdown",
   "metadata": {},
   "source": [
    "The top 5% of players have gained at least 58% of their FSW exp since being transferred to the main game. I scraped the hiscores a little over two months after the end of FSW and FSW ran for about four months. If players were playing consistently for this whole time we would expect them to gain about 50% more exp. (This glosses over a ton of the nuance of how Runescape actually works, but to leading order seems reasonable.) \n",
    "\n",
    "Looking at the ratio of experience that the top 5% of players have earned, I would once again say that Fresh Start Worlds was successful."
   ]
  },
  {
   "cell_type": "markdown",
   "metadata": {},
   "source": [
    "### Clustering in the Hiscores"
   ]
  },
  {
   "cell_type": "code",
   "execution_count": 44,
   "metadata": {},
   "outputs": [
    {
     "data": {
      "image/png": "[encoded data removed]",
      "text/plain": [
       "<Figure size 864x576 with 1 Axes>"
      ]
     },
     "metadata": {},
     "output_type": "display_data"
    }
   ],
   "source": [
    "scores = []\n",
    "for i in range(2,30):\n",
    "    kmeans = KMeans(n_clusters=i, random_state=444,init='k-means++').fit(currentexp)\n",
    "    score = sum(np.min(cdist(currentexp, kmeans.cluster_centers_,'euclidean'),axis=1))/currentexp.shape[0]\n",
    "    scores.append(score)\n",
    "    #print(f'Score was {score} for {i} clusters.')\n",
    "    # TO-DO: Make this into a plot to figure out the right number of clusters. \n",
    "    # Then use those clusters and see if there's anything intersting\n",
    "score_fig = plt.figure('score',figsize = (12,8),facecolor = 'white')\n",
    "score_ax = score_fig.add_subplot(111)\n",
    "score_plot = score_ax.plot(range(2,30), scores)"
   ]
  },
  {
   "cell_type": "code",
   "execution_count": 18,
   "metadata": {},
   "outputs": [],
   "source": [
    "kmeans = KMeans(n_clusters=10, random_state=444,init='k-means++').fit(currentexp)"
   ]
  },
  {
   "cell_type": "code",
   "execution_count": 19,
   "metadata": {},
   "outputs": [],
   "source": [
    "pca = PCA(n_components = 2)\n",
    "pca_features = pca.fit_transform(currentexp)"
   ]
  },
  {
   "cell_type": "code",
   "execution_count": 20,
   "metadata": {},
   "outputs": [
    {
     "data": {
      "text/plain": [
       "array([[-1.54432184e+08, -3.81190185e+06],\n",
       "       [-7.79733241e+07,  3.29974402e+06],\n",
       "       [ 2.81643151e+08, -1.16786767e+08],\n",
       "       ...,\n",
       "       [ 8.80488122e+07,  5.45500735e+06],\n",
       "       [ 5.12537225e+08,  9.62686581e+07],\n",
       "       [-1.54449605e+08, -3.80764074e+06]])"
      ]
     },
     "execution_count": 20,
     "metadata": {},
     "output_type": "execute_result"
    }
   ],
   "source": [
    "pca_features"
   ]
  },
  {
   "cell_type": "code",
   "execution_count": 21,
   "metadata": {},
   "outputs": [
    {
     "data": {
      "text/plain": [
       "array([9, 1, 4, ..., 7, 0, 9])"
      ]
     },
     "execution_count": 21,
     "metadata": {},
     "output_type": "execute_result"
    }
   ],
   "source": [
    "kmeans.predict(currentexp)"
   ]
  },
  {
   "cell_type": "code",
   "execution_count": 45,
   "metadata": {},
   "outputs": [
    {
     "name": "stderr",
     "output_type": "stream",
     "text": [
      "No handles with labels found to put in legend.\n"
     ]
    },
    {
     "data": {
      "text/plain": [
       "<matplotlib.legend.Legend at 0x1edf7444188>"
      ]
     },
     "execution_count": 45,
     "metadata": {},
     "output_type": "execute_result"
    },
    {
     "data": {
      "image/png": "[encoded data removed]",
      "text/plain": [
       "<Figure size 864x576 with 1 Axes>"
      ]
     },
     "metadata": {},
     "output_type": "display_data"
    }
   ],
   "source": [
    "pca_fig = plt.figure('pca',figsize = (12,8),facecolor = 'white')\n",
    "pca_ax = pca_fig.add_subplot(111)\n",
    "pca_plot = pca_ax.scatter(pca_features[:,0],pca_features[:,1],c=kmeans.predict(currentexp))\n",
    "pca_ax.legend()"
   ]
  },
  {
   "cell_type": "code",
   "execution_count": 23,
   "metadata": {},
   "outputs": [],
   "source": [
    "pca_df = pd.DataFrame(pca_features, columns = ['pca1','pca2'])\n",
    "pca_df['Cluster'] = kmeans.predict(currentexp)"
   ]
  },
  {
   "cell_type": "code",
   "execution_count": 24,
   "metadata": {},
   "outputs": [
    {
     "data": {
      "image/png": "[encoded data removed]",
      "text/plain": [
       "<Figure size 405.725x360 with 1 Axes>"
      ]
     },
     "metadata": {},
     "output_type": "display_data"
    }
   ],
   "source": [
    "sns.set()\n",
    "sns.lmplot(\n",
    "    x = 'pca1',\n",
    "    y = 'pca2',\n",
    "    data = pca_df,\n",
    "    hue = 'Cluster',\n",
    "    fit_reg = False,\n",
    "    legend = True\n",
    "    )\n",
    "\n",
    "plt.title('2D PCA Graph')\n",
    "plt.show()"
   ]
  },
  {
   "cell_type": "code",
   "execution_count": 25,
   "metadata": {},
   "outputs": [],
   "source": [
    "scaledfeatures = StandardScaler().fit_transform(currentexp)"
   ]
  },
  {
   "cell_type": "code",
   "execution_count": 26,
   "metadata": {},
   "outputs": [],
   "source": [
    "pca_scaled = PCA(n_components = 2)\n",
    "pca_features_scaled = pca_scaled.fit_transform(scaledfeatures)\n",
    "pca_df_scaled = pd.DataFrame(pca_features_scaled, columns = ['pca1','pca2'])\n",
    "pca_df_scaled['Cluster'] = kmeans.predict(currentexp)"
   ]
  },
  {
   "cell_type": "code",
   "execution_count": 27,
   "metadata": {},
   "outputs": [
    {
     "data": {
      "image/png": "[encoded data removed]",
      "text/plain": [
       "<Figure size 405.725x360 with 1 Axes>"
      ]
     },
     "metadata": {},
     "output_type": "display_data"
    }
   ],
   "source": [
    "sns.set()\n",
    "sns.lmplot(\n",
    "    x = 'pca1',\n",
    "    y = 'pca2',\n",
    "    data = pca_df_scaled,\n",
    "    hue = 'Cluster',\n",
    "    fit_reg = False,\n",
    "    legend = True\n",
    "    )\n",
    "\n",
    "plt.title('2D PCA Graph, Scaled')\n",
    "plt.show()"
   ]
  },
  {
   "cell_type": "code",
   "execution_count": 28,
   "metadata": {},
   "outputs": [
    {
     "data": {
      "text/html": [
       "<div>\n",
       "<style scoped>\n",
       "    .dataframe tbody tr th:only-of-type {\n",
       "        vertical-align: middle;\n",
       "    }\n",
       "\n",
       "    .dataframe tbody tr th {\n",
       "        vertical-align: top;\n",
       "    }\n",
       "\n",
       "    .dataframe thead th {\n",
       "        text-align: right;\n",
       "    }\n",
       "</style>\n",
       "<table border=\"1\" class=\"dataframe\">\n",
       "  <thead>\n",
       "    <tr style=\"text-align: right;\">\n",
       "      <th></th>\n",
       "      <th>Overall</th>\n",
       "      <th>Attack</th>\n",
       "      <th>Defence</th>\n",
       "      <th>Strength</th>\n",
       "      <th>Constitution</th>\n",
       "      <th>Ranged</th>\n",
       "      <th>Prayer</th>\n",
       "      <th>Magic</th>\n",
       "      <th>Cooking</th>\n",
       "      <th>Woodcutting</th>\n",
       "      <th>...</th>\n",
       "      <th>Slayer</th>\n",
       "      <th>Farming</th>\n",
       "      <th>Runecrafting</th>\n",
       "      <th>Hunter</th>\n",
       "      <th>Construction</th>\n",
       "      <th>Summoning</th>\n",
       "      <th>Dungeoneering</th>\n",
       "      <th>Divination</th>\n",
       "      <th>Invention</th>\n",
       "      <th>Archaeology</th>\n",
       "    </tr>\n",
       "  </thead>\n",
       "  <tbody>\n",
       "    <tr>\n",
       "      <th>0</th>\n",
       "      <td>1.868948e+07</td>\n",
       "      <td>5.421607e+05</td>\n",
       "      <td>1.736959e+06</td>\n",
       "      <td>4.654646e+05</td>\n",
       "      <td>1.848543e+06</td>\n",
       "      <td>8.631020e+05</td>\n",
       "      <td>3.750268e+05</td>\n",
       "      <td>2.432728e+06</td>\n",
       "      <td>2.890843e+05</td>\n",
       "      <td>5.031728e+05</td>\n",
       "      <td>...</td>\n",
       "      <td>5.027869e+05</td>\n",
       "      <td>2.852887e+05</td>\n",
       "      <td>3.713385e+05</td>\n",
       "      <td>2.934336e+05</td>\n",
       "      <td>2.282241e+05</td>\n",
       "      <td>1.662983e+05</td>\n",
       "      <td>2.574487e+05</td>\n",
       "      <td>8.147795e+05</td>\n",
       "      <td>1.088596e+05</td>\n",
       "      <td>3.791240e+05</td>\n",
       "    </tr>\n",
       "    <tr>\n",
       "      <th>1</th>\n",
       "      <td>2.536680e+08</td>\n",
       "      <td>8.815693e+06</td>\n",
       "      <td>2.200068e+07</td>\n",
       "      <td>8.998356e+06</td>\n",
       "      <td>2.387368e+07</td>\n",
       "      <td>1.210244e+07</td>\n",
       "      <td>6.866784e+06</td>\n",
       "      <td>2.262008e+07</td>\n",
       "      <td>3.169185e+06</td>\n",
       "      <td>4.983201e+06</td>\n",
       "      <td>...</td>\n",
       "      <td>1.226464e+07</td>\n",
       "      <td>5.949440e+06</td>\n",
       "      <td>2.635807e+06</td>\n",
       "      <td>7.455763e+06</td>\n",
       "      <td>3.647015e+06</td>\n",
       "      <td>5.355323e+06</td>\n",
       "      <td>7.480325e+06</td>\n",
       "      <td>6.735681e+06</td>\n",
       "      <td>8.319580e+06</td>\n",
       "      <td>1.425834e+07</td>\n",
       "    </tr>\n",
       "    <tr>\n",
       "      <th>2</th>\n",
       "      <td>8.783970e+08</td>\n",
       "      <td>5.014894e+07</td>\n",
       "      <td>9.541062e+07</td>\n",
       "      <td>5.026054e+07</td>\n",
       "      <td>1.124690e+08</td>\n",
       "      <td>4.658996e+07</td>\n",
       "      <td>1.667754e+07</td>\n",
       "      <td>8.796220e+07</td>\n",
       "      <td>6.859220e+06</td>\n",
       "      <td>8.255966e+06</td>\n",
       "      <td>...</td>\n",
       "      <td>5.178972e+07</td>\n",
       "      <td>2.004441e+07</td>\n",
       "      <td>5.716142e+06</td>\n",
       "      <td>1.784638e+07</td>\n",
       "      <td>7.189474e+06</td>\n",
       "      <td>1.543126e+07</td>\n",
       "      <td>2.188865e+07</td>\n",
       "      <td>1.269022e+07</td>\n",
       "      <td>6.046890e+07</td>\n",
       "      <td>4.468230e+07</td>\n",
       "    </tr>\n",
       "    <tr>\n",
       "      <th>3</th>\n",
       "      <td>4.183659e+08</td>\n",
       "      <td>1.489759e+07</td>\n",
       "      <td>3.879130e+07</td>\n",
       "      <td>1.567884e+07</td>\n",
       "      <td>4.209570e+07</td>\n",
       "      <td>2.150701e+07</td>\n",
       "      <td>9.275462e+06</td>\n",
       "      <td>3.826864e+07</td>\n",
       "      <td>4.472279e+06</td>\n",
       "      <td>6.278304e+06</td>\n",
       "      <td>...</td>\n",
       "      <td>2.409542e+07</td>\n",
       "      <td>9.291639e+06</td>\n",
       "      <td>3.881723e+06</td>\n",
       "      <td>1.303877e+07</td>\n",
       "      <td>5.156376e+06</td>\n",
       "      <td>8.156879e+06</td>\n",
       "      <td>9.672430e+06</td>\n",
       "      <td>9.435390e+06</td>\n",
       "      <td>2.133578e+07</td>\n",
       "      <td>2.424584e+07</td>\n",
       "    </tr>\n",
       "    <tr>\n",
       "      <th>4</th>\n",
       "      <td>1.181475e+08</td>\n",
       "      <td>4.977815e+06</td>\n",
       "      <td>1.103337e+07</td>\n",
       "      <td>4.749307e+06</td>\n",
       "      <td>1.242360e+07</td>\n",
       "      <td>6.634857e+06</td>\n",
       "      <td>3.000984e+06</td>\n",
       "      <td>1.170502e+07</td>\n",
       "      <td>1.660674e+06</td>\n",
       "      <td>3.194089e+06</td>\n",
       "      <td>...</td>\n",
       "      <td>3.948238e+06</td>\n",
       "      <td>2.414109e+06</td>\n",
       "      <td>1.540837e+06</td>\n",
       "      <td>2.731473e+06</td>\n",
       "      <td>1.579064e+06</td>\n",
       "      <td>1.772219e+06</td>\n",
       "      <td>2.383452e+06</td>\n",
       "      <td>4.757392e+06</td>\n",
       "      <td>1.801174e+06</td>\n",
       "      <td>6.411534e+06</td>\n",
       "    </tr>\n",
       "    <tr>\n",
       "      <th>5</th>\n",
       "      <td>3.923218e+09</td>\n",
       "      <td>1.694054e+08</td>\n",
       "      <td>1.904964e+08</td>\n",
       "      <td>1.548553e+08</td>\n",
       "      <td>2.000000e+08</td>\n",
       "      <td>1.849133e+08</td>\n",
       "      <td>1.316105e+08</td>\n",
       "      <td>1.943951e+08</td>\n",
       "      <td>9.988352e+07</td>\n",
       "      <td>1.008120e+08</td>\n",
       "      <td>...</td>\n",
       "      <td>1.720061e+08</td>\n",
       "      <td>1.529129e+08</td>\n",
       "      <td>1.370651e+08</td>\n",
       "      <td>1.185709e+08</td>\n",
       "      <td>1.091049e+08</td>\n",
       "      <td>1.323134e+08</td>\n",
       "      <td>1.444873e+08</td>\n",
       "      <td>1.181210e+08</td>\n",
       "      <td>2.000000e+08</td>\n",
       "      <td>1.462362e+08</td>\n",
       "    </tr>\n",
       "    <tr>\n",
       "      <th>6</th>\n",
       "      <td>6.141106e+08</td>\n",
       "      <td>2.273006e+07</td>\n",
       "      <td>6.270696e+07</td>\n",
       "      <td>2.397245e+07</td>\n",
       "      <td>6.745407e+07</td>\n",
       "      <td>2.983240e+07</td>\n",
       "      <td>1.295082e+07</td>\n",
       "      <td>6.187925e+07</td>\n",
       "      <td>6.451409e+06</td>\n",
       "      <td>6.814543e+06</td>\n",
       "      <td>...</td>\n",
       "      <td>4.167963e+07</td>\n",
       "      <td>1.338693e+07</td>\n",
       "      <td>5.764583e+06</td>\n",
       "      <td>1.488492e+07</td>\n",
       "      <td>7.047032e+06</td>\n",
       "      <td>1.006224e+07</td>\n",
       "      <td>1.331040e+07</td>\n",
       "      <td>1.089432e+07</td>\n",
       "      <td>3.951910e+07</td>\n",
       "      <td>3.725998e+07</td>\n",
       "    </tr>\n",
       "    <tr>\n",
       "      <th>7</th>\n",
       "      <td>1.228504e+09</td>\n",
       "      <td>8.924215e+07</td>\n",
       "      <td>1.288811e+08</td>\n",
       "      <td>1.004825e+08</td>\n",
       "      <td>1.558942e+08</td>\n",
       "      <td>8.730348e+07</td>\n",
       "      <td>2.425682e+07</td>\n",
       "      <td>1.242215e+08</td>\n",
       "      <td>9.240866e+06</td>\n",
       "      <td>1.015368e+07</td>\n",
       "      <td>...</td>\n",
       "      <td>7.123753e+07</td>\n",
       "      <td>2.599324e+07</td>\n",
       "      <td>8.796187e+06</td>\n",
       "      <td>2.341503e+07</td>\n",
       "      <td>9.523101e+06</td>\n",
       "      <td>2.605541e+07</td>\n",
       "      <td>2.976831e+07</td>\n",
       "      <td>1.257121e+07</td>\n",
       "      <td>7.089271e+07</td>\n",
       "      <td>4.993224e+07</td>\n",
       "    </tr>\n",
       "    <tr>\n",
       "      <th>8</th>\n",
       "      <td>1.776890e+09</td>\n",
       "      <td>9.343122e+07</td>\n",
       "      <td>1.367552e+08</td>\n",
       "      <td>9.939964e+07</td>\n",
       "      <td>1.599977e+08</td>\n",
       "      <td>9.349994e+07</td>\n",
       "      <td>4.501292e+07</td>\n",
       "      <td>1.305344e+08</td>\n",
       "      <td>2.141946e+07</td>\n",
       "      <td>2.164083e+07</td>\n",
       "      <td>...</td>\n",
       "      <td>1.087760e+08</td>\n",
       "      <td>7.661968e+07</td>\n",
       "      <td>2.050281e+07</td>\n",
       "      <td>5.954449e+07</td>\n",
       "      <td>2.847601e+07</td>\n",
       "      <td>2.229650e+07</td>\n",
       "      <td>6.663453e+07</td>\n",
       "      <td>2.877719e+07</td>\n",
       "      <td>1.059627e+08</td>\n",
       "      <td>8.702510e+07</td>\n",
       "    </tr>\n",
       "    <tr>\n",
       "      <th>9</th>\n",
       "      <td>1.572500e+08</td>\n",
       "      <td>1.383199e+06</td>\n",
       "      <td>4.511500e+06</td>\n",
       "      <td>1.259017e+06</td>\n",
       "      <td>4.896689e+06</td>\n",
       "      <td>2.230469e+06</td>\n",
       "      <td>9.359311e+05</td>\n",
       "      <td>5.795873e+06</td>\n",
       "      <td>9.240883e+05</td>\n",
       "      <td>1.149993e+06</td>\n",
       "      <td>...</td>\n",
       "      <td>1.497032e+06</td>\n",
       "      <td>1.025995e+06</td>\n",
       "      <td>5.119726e+05</td>\n",
       "      <td>2.374949e+06</td>\n",
       "      <td>6.222905e+05</td>\n",
       "      <td>4.349192e+05</td>\n",
       "      <td>6.914039e+05</td>\n",
       "      <td>3.124366e+06</td>\n",
       "      <td>4.807727e+05</td>\n",
       "      <td>3.549189e+06</td>\n",
       "    </tr>\n",
       "  </tbody>\n",
       "</table>\n",
       "<p>10 rows × 29 columns</p>\n",
       "</div>"
      ],
      "text/plain": [
       "        Overall        Attack       Defence      Strength  Constitution  \\\n",
       "0  1.868948e+07  5.421607e+05  1.736959e+06  4.654646e+05  1.848543e+06   \n",
       "1  2.536680e+08  8.815693e+06  2.200068e+07  8.998356e+06  2.387368e+07   \n",
       "2  8.783970e+08  5.014894e+07  9.541062e+07  5.026054e+07  1.124690e+08   \n",
       "3  4.183659e+08  1.489759e+07  3.879130e+07  1.567884e+07  4.209570e+07   \n",
       "4  1.181475e+08  4.977815e+06  1.103337e+07  4.749307e+06  1.242360e+07   \n",
       "5  3.923218e+09  1.694054e+08  1.904964e+08  1.548553e+08  2.000000e+08   \n",
       "6  6.141106e+08  2.273006e+07  6.270696e+07  2.397245e+07  6.745407e+07   \n",
       "7  1.228504e+09  8.924215e+07  1.288811e+08  1.004825e+08  1.558942e+08   \n",
       "8  1.776890e+09  9.343122e+07  1.367552e+08  9.939964e+07  1.599977e+08   \n",
       "9  1.572500e+08  1.383199e+06  4.511500e+06  1.259017e+06  4.896689e+06   \n",
       "\n",
       "         Ranged        Prayer         Magic       Cooking   Woodcutting  ...  \\\n",
       "0  8.631020e+05  3.750268e+05  2.432728e+06  2.890843e+05  5.031728e+05  ...   \n",
       "1  1.210244e+07  6.866784e+06  2.262008e+07  3.169185e+06  4.983201e+06  ...   \n",
       "2  4.658996e+07  1.667754e+07  8.796220e+07  6.859220e+06  8.255966e+06  ...   \n",
       "3  2.150701e+07  9.275462e+06  3.826864e+07  4.472279e+06  6.278304e+06  ...   \n",
       "4  6.634857e+06  3.000984e+06  1.170502e+07  1.660674e+06  3.194089e+06  ...   \n",
       "5  1.849133e+08  1.316105e+08  1.943951e+08  9.988352e+07  1.008120e+08  ...   \n",
       "6  2.983240e+07  1.295082e+07  6.187925e+07  6.451409e+06  6.814543e+06  ...   \n",
       "7  8.730348e+07  2.425682e+07  1.242215e+08  9.240866e+06  1.015368e+07  ...   \n",
       "8  9.349994e+07  4.501292e+07  1.305344e+08  2.141946e+07  2.164083e+07  ...   \n",
       "9  2.230469e+06  9.359311e+05  5.795873e+06  9.240883e+05  1.149993e+06  ...   \n",
       "\n",
       "         Slayer       Farming  Runecrafting        Hunter  Construction  \\\n",
       "0  5.027869e+05  2.852887e+05  3.713385e+05  2.934336e+05  2.282241e+05   \n",
       "1  1.226464e+07  5.949440e+06  2.635807e+06  7.455763e+06  3.647015e+06   \n",
       "2  5.178972e+07  2.004441e+07  5.716142e+06  1.784638e+07  7.189474e+06   \n",
       "3  2.409542e+07  9.291639e+06  3.881723e+06  1.303877e+07  5.156376e+06   \n",
       "4  3.948238e+06  2.414109e+06  1.540837e+06  2.731473e+06  1.579064e+06   \n",
       "5  1.720061e+08  1.529129e+08  1.370651e+08  1.185709e+08  1.091049e+08   \n",
       "6  4.167963e+07  1.338693e+07  5.764583e+06  1.488492e+07  7.047032e+06   \n",
       "7  7.123753e+07  2.599324e+07  8.796187e+06  2.341503e+07  9.523101e+06   \n",
       "8  1.087760e+08  7.661968e+07  2.050281e+07  5.954449e+07  2.847601e+07   \n",
       "9  1.497032e+06  1.025995e+06  5.119726e+05  2.374949e+06  6.222905e+05   \n",
       "\n",
       "      Summoning  Dungeoneering    Divination     Invention   Archaeology  \n",
       "0  1.662983e+05   2.574487e+05  8.147795e+05  1.088596e+05  3.791240e+05  \n",
       "1  5.355323e+06   7.480325e+06  6.735681e+06  8.319580e+06  1.425834e+07  \n",
       "2  1.543126e+07   2.188865e+07  1.269022e+07  6.046890e+07  4.468230e+07  \n",
       "3  8.156879e+06   9.672430e+06  9.435390e+06  2.133578e+07  2.424584e+07  \n",
       "4  1.772219e+06   2.383452e+06  4.757392e+06  1.801174e+06  6.411534e+06  \n",
       "5  1.323134e+08   1.444873e+08  1.181210e+08  2.000000e+08  1.462362e+08  \n",
       "6  1.006224e+07   1.331040e+07  1.089432e+07  3.951910e+07  3.725998e+07  \n",
       "7  2.605541e+07   2.976831e+07  1.257121e+07  7.089271e+07  4.993224e+07  \n",
       "8  2.229650e+07   6.663453e+07  2.877719e+07  1.059627e+08  8.702510e+07  \n",
       "9  4.349192e+05   6.914039e+05  3.124366e+06  4.807727e+05  3.549189e+06  \n",
       "\n",
       "[10 rows x 29 columns]"
      ]
     },
     "execution_count": 28,
     "metadata": {},
     "output_type": "execute_result"
    }
   ],
   "source": [
    "kmeans = KMeans(n_clusters=10, random_state=333,init='k-means++').fit(currentexp)\n",
    "kmeans_df = pd.DataFrame(kmeans.cluster_centers_)\n",
    "hiscores_map = {0:'Overall', 1:'Attack', 2:'Defence', 3:'Strength', 4:'Constitution', 5:'Ranged', 6:'Prayer', 7:'Magic', 8:'Cooking', 9:'Woodcutting', 10:'Fletching', 11:'Fishing', 12:'Firemaking', 13:'Crafting', 14:'Smithing', 15:'Mining', 16:'Herblore', 17:'Agility', 18:'Thieving', 19:'Slayer', 20:'Farming', 21:'Runecrafting', 22:'Hunter', 23:'Construction', 24:'Summoning', 25:'Dungeoneering', 26:'Divination', 27:'Invention', 28:\"Archaeology\"}\n",
    "kmeans_df.rename(columns = hiscores_map, inplace = True)\n",
    "kmeans_df"
   ]
  },
  {
   "cell_type": "code",
   "execution_count": 29,
   "metadata": {},
   "outputs": [
    {
     "name": "stdout",
     "output_type": "stream",
     "text": [
      "0    10366\n",
      "4     4565\n",
      "1     2390\n",
      "3     1303\n",
      "9     1059\n",
      "6      745\n",
      "2      407\n",
      "7      166\n",
      "8       39\n",
      "5        8\n",
      "Name: prediction, dtype: int64\n"
     ]
    }
   ],
   "source": [
    "kmeans_df['Label'] = kmeans_df.index\n",
    "kmeans_melt = pd.melt(kmeans_df,id_vars = 'Label')\n",
    "kmeans_melt.rename(columns = {'variable':'Skill','value':'Experience'},inplace = True)\n",
    "\n",
    "counts = pd.DataFrame(kmeans.predict(currentexp),columns =['prediction'])['prediction'].value_counts()\n",
    "print(counts)"
   ]
  },
  {
   "cell_type": "code",
   "execution_count": 30,
   "metadata": {},
   "outputs": [],
   "source": [
    "inverted_skillcape_colormap = {\n",
    "    \"Overall\" : '#0000FF',\n",
    "    \"Agility\" : \"#bb3329\",\n",
    "    \"Archaeology\" : \"#1f2024\",\n",
    "    \"Attack\" : \"#eace14\",\n",
    "    \"Constitution\" : \"#d53f34\",\n",
    "    \"Construction\" : \"#c1992b\",\n",
    "    \"Cooking\" : \"#961100\",\n",
    "    \"Crafting\" : \"#cbc74b\",\n",
    "    \"Defence\" : \"#dae5e5\",\n",
    "    \"Divination\" : \"#2eb5b3\",\n",
    "    \"Dungeoneering\" : \"#cacbd3\",\n",
    "    \"Farming\" : \"#9bc074\",\n",
    "    \"Firemaking\" : \"#c4b94b\",\n",
    "    \"Fishing\" : \"#ccbf4f\",\n",
    "    \"Fletching\" : \"#e8ba13\",\n",
    "    \"Herblore\" : \"#d8d110\",\n",
    "    \"Hunter\" : \"#342100\",\n",
    "    \"Invention\" : \"#2fa6f3\",\n",
    "    \"Magic\" : \"#3640ce\",\n",
    "    \"Mining\" : \"#63cae8\",\n",
    "    \"Prayer\" : \"#f6f019\",\n",
    "    \"Ranged\" : \"#bd6c0b\",\n",
    "    \"Runecrafting\" : \"#eddd16\",\n",
    "    \"Slayer\" : \"#941200\",\n",
    "    \"Smithing\" : \"#cec46e\",\n",
    "    \"Strength\" : \"#b61c0c\",\n",
    "    \"Summoning\" : \"#bdb146\",\n",
    "    \"Thieving\" : \"#202024\",\n",
    "    \"Woodcutting\" : \"#309154\"\n",
    "} "
   ]
  },
  {
   "cell_type": "code",
   "execution_count": 42,
   "metadata": {},
   "outputs": [
    {
     "name": "stderr",
     "output_type": "stream",
     "text": [
      "D:\\ProgramData\\Anaconda3\\lib\\site-packages\\ipykernel_launcher.py:2: SettingWithCopyWarning: \n",
      "A value is trying to be set on a copy of a slice from a DataFrame.\n",
      "Try using .loc[row_indexer,col_indexer] = value instead\n",
      "\n",
      "See the caveats in the documentation: https://pandas.pydata.org/pandas-docs/stable/user_guide/indexing.html#returning-a-view-versus-a-copy\n",
      "  \n"
     ]
    },
    {
     "data": {
      "text/plain": [
       "<seaborn.axisgrid.FacetGrid at 0x1edf7803488>"
      ]
     },
     "execution_count": 42,
     "metadata": {},
     "output_type": "execute_result"
    },
    {
     "data": {
      "image/png": "[encoded data removed]",
      "text/plain": [
       "<Figure size 1800x360 with 5 Axes>"
      ]
     },
     "metadata": {},
     "output_type": "display_data"
    }
   ],
   "source": [
    "plotting_data = kmeans_melt[kmeans_melt['Label'].isin(counts.index[0:5])]\n",
    "plotting_data['Label'] = plotting_data['Label'].replace(group_names_map)\n",
    "cluster_plot = sns.catplot(\"Experience\",\"Skill\",col='Label',data=plotting_data,\n",
    "                            kind='bar',orient=\"h\",log=True, \n",
    "                            palette = inverted_skillcape_colormap)\n",
    "plt.xlim(100000,500000000)\n",
    "cluster_plot.set_titles('{col_name}')\n"
   ]
  },
  {
   "cell_type": "code",
   "execution_count": 32,
   "metadata": {},
   "outputs": [],
   "source": [
    "players_cluster = kmeans.predict(currentexp)\n",
    "player_group = pd.DataFrame(players_cluster, index = currentexp.index,columns = ['Group'])\n",
    "group_names_map = {0:\"Just checking this out\",1:\"I want capes!\",3:\"Long Haulers\",\n",
    "                   4:\"I just want a cape!\",9:\"All your safes are belong to us\",2:2,5:5,6:6,7:7,8:8}\n",
    "player_group['Group'] = player_group['Group'].map(group_names_map, na_action = 'ignore')\n",
    "player_group.to_csv('./FSW_Player_Cluster_Labels.csv')"
   ]
  },
  {
   "cell_type": "code",
   "execution_count": 33,
   "metadata": {},
   "outputs": [
    {
     "data": {
      "text/plain": [
       "'I want capes!'"
      ]
     },
     "execution_count": 33,
     "metadata": {},
     "output_type": "execute_result"
    }
   ],
   "source": [
    "# See which group I'm in.\n",
    "player_group.at['Trevbrun720','Group']"
   ]
  },
  {
   "cell_type": "markdown",
   "metadata": {},
   "source": [
    "I spent a lot of time trying to get capes, so ya, this seems to track."
   ]
  },
  {
   "cell_type": "code",
   "execution_count": null,
   "metadata": {},
   "outputs": [],
   "source": []
  }
 ],
 "metadata": {
  "kernelspec": {
   "display_name": "Python 3",
   "language": "python",
   "name": "python3"
  },
  "language_info": {
   "codemirror_mode": {
    "name": "ipython",
    "version": 3
   },
   "file_extension": ".py",
   "mimetype": "text/x-python",
   "name": "python",
   "nbconvert_exporter": "python",
   "pygments_lexer": "ipython3",
   "version": "3.7.7"
  }
 },
 "nbformat": 4,
 "nbformat_minor": 4
}
